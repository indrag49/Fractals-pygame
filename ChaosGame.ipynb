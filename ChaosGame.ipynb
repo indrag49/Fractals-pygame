{
 "cells": [
  {
   "cell_type": "code",
   "execution_count": 5,
   "metadata": {},
   "outputs": [],
   "source": [
    "import random\n",
    "import random, pygame, sys\n",
    "from pygame.locals import*\n",
    "#set up the window\n",
    "DISPLAYSURF=pygame.display.set_mode((800, 800))"
   ]
  },
  {
   "cell_type": "markdown",
   "metadata": {},
   "source": [
    "#### Sierpinski's Triangle"
   ]
  },
  {
   "cell_type": "code",
   "execution_count": 5,
   "metadata": {},
   "outputs": [
    {
     "ename": "SystemExit",
     "evalue": "",
     "output_type": "error",
     "traceback": [
      "An exception has occurred, use %tb to see the full traceback.\n",
      "\u001b[1;31mSystemExit\u001b[0m\n"
     ]
    },
    {
     "name": "stderr",
     "output_type": "stream",
     "text": [
      "F:\\Anaconda3\\lib\\site-packages\\IPython\\core\\interactiveshell.py:2971: UserWarning: To exit: use 'exit', 'quit', or Ctrl-D.\n",
      "  warn(\"To exit: use 'exit', 'quit', or Ctrl-D.\", stacklevel=1)\n"
     ]
    }
   ],
   "source": [
    "import random, pygame, sys\n",
    "from pygame.locals import*\n",
    "#set up the window\n",
    "DISPLAYSURF=pygame.display.set_mode((800, 800))\n",
    "#set up the colors\n",
    "BLACK=(0, 0, 0)\n",
    "BLUE=(0, 0, 255)\n",
    "i=0\n",
    "while True:\n",
    "    for event in pygame.event.get():\n",
    "        if event.type==QUIT:\n",
    "            pygame.image.save(DISPLAYSURF, \"sierpinski.png\")\n",
    "            pygame.quit()\n",
    "            sys.exit()\n",
    "        elif event.type==MOUSEBUTTONUP:\n",
    "            i+=1\n",
    "            if i==1:\n",
    "                A=(event.pos[0], event.pos[1])\n",
    "                pygame.draw.circle(DISPLAYSURF,BLUE,A,0,0)\n",
    "            elif i==2:\n",
    "                B=(event.pos[0], event.pos[1])\n",
    "                pygame.draw.circle(DISPLAYSURF,BLUE,B,0,0)\n",
    "            elif i==3:\n",
    "                C=(event.pos[0], event.pos[1])\n",
    "                pygame.draw.circle(DISPLAYSURF,BLUE,C,0,0)\n",
    "            elif i==4:\n",
    "                St=(event.pos[0], event.pos[1])\n",
    "                pygame.draw.circle(DISPLAYSURF,BLUE,St,0,0)\n",
    "            else:\n",
    "                pygame.quit()\n",
    "                sys.exit()\n",
    "    if i==4:\n",
    "        x=random.randint(1, 6)\n",
    "        if x in [1, 2]: St=((St[0]+A[0])//2, (St[1]+A[1])//2)\n",
    "        elif x in [3, 4]: St=((St[0]+B[0])//2, (St[1]+B[1])//2)\n",
    "        else: St=((St[0]+C[0])//2, (St[1]+C[1])//2)\n",
    "        pygame.draw.circle(DISPLAYSURF, BLUE, St, 0, 0)\n",
    "    pygame.display.update()"
   ]
  },
  {
   "cell_type": "markdown",
   "metadata": {},
   "source": [
    "## Pentagon Structures"
   ]
  },
  {
   "cell_type": "markdown",
   "metadata": {},
   "source": [
    "#### n=5, r=$\\frac{3}{8}$"
   ]
  },
  {
   "cell_type": "code",
   "execution_count": 3,
   "metadata": {},
   "outputs": [
    {
     "ename": "SystemExit",
     "evalue": "",
     "output_type": "error",
     "traceback": [
      "An exception has occurred, use %tb to see the full traceback.\n",
      "\u001b[1;31mSystemExit\u001b[0m\n"
     ]
    },
    {
     "name": "stderr",
     "output_type": "stream",
     "text": [
      "F:\\Anaconda3\\lib\\site-packages\\IPython\\core\\interactiveshell.py:2971: UserWarning: To exit: use 'exit', 'quit', or Ctrl-D.\n",
      "  warn(\"To exit: use 'exit', 'quit', or Ctrl-D.\", stacklevel=1)\n"
     ]
    }
   ],
   "source": [
    "A=(217, 25)\n",
    "B=(553, 134)\n",
    "C=(553, 486)\n",
    "D=(217, 595)\n",
    "E=(10, 310)\n",
    "St=(1, 1)\n",
    "\n",
    "GREEN=(0, 255, 0)\n",
    "\n",
    "pygame.draw.circle(DISPLAYSURF, GREEN, A, 0, 0)\n",
    "pygame.draw.circle(DISPLAYSURF, GREEN, B, 0, 0)\n",
    "pygame.draw.circle(DISPLAYSURF, GREEN, C, 0, 0)\n",
    "pygame.draw.circle(DISPLAYSURF, GREEN, D, 0, 0)\n",
    "pygame.draw.circle(DISPLAYSURF, GREEN, E, 0, 0)\n",
    "pygame.draw.circle(DISPLAYSURF, GREEN, St, 0, 0)\n",
    "#run the loop\n",
    "\n",
    "while True:\n",
    "    x=random.randint(1, 5)\n",
    "    if x==1 : St=((St[0] + A[0])*3//8, (St[1] + A[1])*3//8)\n",
    "    elif x==2 : St=((St[0] + B[0])*3//8, (St[1] + B[1])*3//8)\n",
    "    elif x==3 : St=((St[0] + C[0])*3//8, (St[1] + C[1])*3//8)\n",
    "    elif x==4 : St=((St[0] + D[0])*3//8, (St[1] + D[1])*3//8)\n",
    "    else: St=((St[0] + E[0])*3//8, (St[1] + E[1])*3//8)\n",
    "    pygame.draw.circle(DISPLAYSURF, GREEN, St, 0, 0)\n",
    "    \n",
    "    for event in pygame.event.get():\n",
    "        if event.type==QUIT:\n",
    "            pygame.image.save(DISPLAYSURF, \"pentagon1.png\")\n",
    "    \n",
    "            pygame.quit()\n",
    "            sys.exit()\n",
    "\n",
    "    pygame.display.update()"
   ]
  },
  {
   "cell_type": "markdown",
   "metadata": {},
   "source": [
    "#### n=5, r=$\\frac{1}{2}$, restricted"
   ]
  },
  {
   "cell_type": "code",
   "execution_count": 6,
   "metadata": {},
   "outputs": [
    {
     "ename": "SystemExit",
     "evalue": "",
     "output_type": "error",
     "traceback": [
      "An exception has occurred, use %tb to see the full traceback.\n",
      "\u001b[1;31mSystemExit\u001b[0m\n"
     ]
    },
    {
     "name": "stderr",
     "output_type": "stream",
     "text": [
      "F:\\Anaconda3\\lib\\site-packages\\IPython\\core\\interactiveshell.py:2971: UserWarning: To exit: use 'exit', 'quit', or Ctrl-D.\n",
      "  warn(\"To exit: use 'exit', 'quit', or Ctrl-D.\", stacklevel=1)\n"
     ]
    }
   ],
   "source": [
    "A=(217, 25)\n",
    "B=(553, 134)\n",
    "C=(553, 486)\n",
    "D=(217, 595)\n",
    "E=(10, 310)\n",
    "St=(1, 1)\n",
    "\n",
    "RED=(255, 0, 0)\n",
    "\n",
    "pygame.draw.circle(DISPLAYSURF, RED, A, 0, 0)\n",
    "pygame.draw.circle(DISPLAYSURF, RED, B, 0, 0)\n",
    "pygame.draw.circle(DISPLAYSURF, RED, C, 0, 0)\n",
    "pygame.draw.circle(DISPLAYSURF, RED, D, 0, 0)\n",
    "pygame.draw.circle(DISPLAYSURF, RED, E, 0, 0)\n",
    "pygame.draw.circle(DISPLAYSURF, RED, St, 0, 0)\n",
    "prev=random.randint(1, 5)\n",
    "\n",
    "#run the loop\n",
    "while True:\n",
    "    l=[1, 2, 3, 4, 5]\n",
    "    l.remove(prev)\n",
    "    x=random.choice(l)\n",
    "    if x==1:St=((St[0] + A[0])//2, (St[1] + A[1])//2)\n",
    "    elif x==2:St=((St[0] + B[0])//2, (St[1] + B[1])//2)\n",
    "    elif x==3:St=((St[0] + C[0])//2, (St[1] + C[1])//2)\n",
    "    elif x==4:St=((St[0] + D[0])//2, (St[1] + D[1])//2)\n",
    "    else:St=((St[0] + E[0])//2, (St[1] + E[1])//2)\n",
    "    prev=x\n",
    "    pygame.draw.circle(DISPLAYSURF, RED, St, 0, 0)\n",
    "\n",
    "    for event in pygame.event.get():\n",
    "        if event.type==QUIT:\n",
    "            pygame.image.save(DISPLAYSURF, \"pentagon2.png\")\n",
    "            pygame.quit()\n",
    "            sys.exit()\n",
    "\n",
    "    pygame.display.update()"
   ]
  },
  {
   "cell_type": "markdown",
   "metadata": {},
   "source": [
    "## Square Structures"
   ]
  },
  {
   "cell_type": "markdown",
   "metadata": {},
   "source": [
    "#### Type I"
   ]
  },
  {
   "cell_type": "code",
   "execution_count": 2,
   "metadata": {},
   "outputs": [
    {
     "ename": "SystemExit",
     "evalue": "",
     "output_type": "error",
     "traceback": [
      "An exception has occurred, use %tb to see the full traceback.\n",
      "\u001b[1;31mSystemExit\u001b[0m\n"
     ]
    },
    {
     "name": "stderr",
     "output_type": "stream",
     "text": [
      "F:\\Anaconda3\\lib\\site-packages\\IPython\\core\\interactiveshell.py:2971: UserWarning: To exit: use 'exit', 'quit', or Ctrl-D.\n",
      "  warn(\"To exit: use 'exit', 'quit', or Ctrl-D.\", stacklevel=1)\n"
     ]
    }
   ],
   "source": [
    "A=(100, 100)\n",
    "B=(700, 100)\n",
    "C=(700, 700)\n",
    "D=(100, 700)\n",
    "St=(1, 1)\n",
    "\n",
    "BLUE=(0, 0, 255)\n",
    "\n",
    "pygame.draw.circle(DISPLAYSURF, BLUE, A, 0, 0)\n",
    "pygame.draw.circle(DISPLAYSURF, BLUE, B, 0, 0)\n",
    "pygame.draw.circle(DISPLAYSURF, BLUE, C, 0, 0)\n",
    "pygame.draw.circle(DISPLAYSURF, BLUE, D, 0, 0)\n",
    "pygame.draw.circle(DISPLAYSURF, BLUE, St, 0, 0)\n",
    "prev=random.randint(1, 4)\n",
    "\n",
    "#run the loop\n",
    "while True:\n",
    "    l=[1, 2, 3, 4]\n",
    "    l.remove(prev)\n",
    "    x=random.choice(l)\n",
    "    if x==1:St=((St[0] + A[0])//2, (St[1] + A[1])//2)\n",
    "    elif x==2:St=((St[0] + B[0])//2, (St[1] + B[1])//2)\n",
    "    elif x==3:St=((St[0] + C[0])//2, (St[1] + C[1])//2)\n",
    "    else:St=((St[0] + D[0])//2, (St[1] + D[1])//2)\n",
    "    prev=x\n",
    "    \n",
    "    pygame.draw.circle(DISPLAYSURF, BLUE, St, 0, 0)\n",
    "    for event in pygame.event.get():\n",
    "        if event.type==QUIT:\n",
    "            pygame.image.save(DISPLAYSURF, \"square1.png\")\n",
    "            pygame.quit()\n",
    "            sys.exit()\n",
    "            \n",
    "    pygame.display.update()"
   ]
  },
  {
   "cell_type": "code",
   "execution_count": 4,
   "metadata": {},
   "outputs": [
    {
     "ename": "SystemExit",
     "evalue": "",
     "output_type": "error",
     "traceback": [
      "An exception has occurred, use %tb to see the full traceback.\n",
      "\u001b[1;31mSystemExit\u001b[0m\n"
     ]
    },
    {
     "name": "stderr",
     "output_type": "stream",
     "text": [
      "F:\\Anaconda3\\lib\\site-packages\\IPython\\core\\interactiveshell.py:2971: UserWarning: To exit: use 'exit', 'quit', or Ctrl-D.\n",
      "  warn(\"To exit: use 'exit', 'quit', or Ctrl-D.\", stacklevel=1)\n"
     ]
    }
   ],
   "source": [
    "A=(100, 100)\n",
    "B=(700, 100)\n",
    "C=(700, 700)\n",
    "D=(100, 700)\n",
    "St=(1, 1)\n",
    "\n",
    "GREEN=(0, 255, 0)\n",
    "\n",
    "pygame.draw.circle(DISPLAYSURF, GREEN, A, 0, 0)\n",
    "pygame.draw.circle(DISPLAYSURF, GREEN, B, 0, 0)\n",
    "pygame.draw.circle(DISPLAYSURF, GREEN, C, 0, 0)\n",
    "pygame.draw.circle(DISPLAYSURF, GREEN, D, 0, 0)\n",
    "pygame.draw.circle(DISPLAYSURF, GREEN, St, 0, 0)\n",
    "prev=random.randint(1, 4)\n",
    "\n",
    "while True:\n",
    "    l=[1, 2, 3, 4]\n",
    "    l.remove(prev)\n",
    "    x=random.choice(l)\n",
    "    if x==1:\n",
    "        St=((St[0] + A[0])//2, (St[1] + A[1])//2)\n",
    "        prev=4\n",
    "    elif x==2:\n",
    "        St=((St[0] + B[0])//2, (St[1] + B[1])//2)\n",
    "        prev=1\n",
    "    elif x==3:\n",
    "        St=((St[0] + C[0])//2, (St[1] + C[1])//2)\n",
    "        prev=2\n",
    "    else:\n",
    "        St=((St[0] + D[0])//2, (St[1] + D[1])//2)\n",
    "        prev=3\n",
    "    \n",
    "    pygame.draw.circle(DISPLAYSURF, GREEN, St, 0, 0)\n",
    "    \n",
    "    for event in pygame.event.get():\n",
    "        if event.type==QUIT:\n",
    "            pygame.image.save(DISPLAYSURF, \"square2.png\")\n",
    "            pygame.quit()\n",
    "            sys.exit()\n",
    "            \n",
    "    pygame.display.update()"
   ]
  },
  {
   "cell_type": "markdown",
   "metadata": {},
   "source": [
    "#### Type III"
   ]
  },
  {
   "cell_type": "code",
   "execution_count": 8,
   "metadata": {},
   "outputs": [
    {
     "ename": "SystemExit",
     "evalue": "",
     "output_type": "error",
     "traceback": [
      "An exception has occurred, use %tb to see the full traceback.\n",
      "\u001b[1;31mSystemExit\u001b[0m\n"
     ]
    },
    {
     "name": "stderr",
     "output_type": "stream",
     "text": [
      "F:\\Anaconda3\\lib\\site-packages\\IPython\\core\\interactiveshell.py:2971: UserWarning: To exit: use 'exit', 'quit', or Ctrl-D.\n",
      "  warn(\"To exit: use 'exit', 'quit', or Ctrl-D.\", stacklevel=1)\n"
     ]
    }
   ],
   "source": [
    "A=(100, 100)\n",
    "B=(700, 100)\n",
    "C=(700, 700)\n",
    "D=(100, 700)\n",
    "St=(1, 1)\n",
    "\n",
    "YELLOW=(255, 255, 0)\n",
    "\n",
    "pygame.draw.circle(DISPLAYSURF, YELLOW, A, 0, 0)\n",
    "pygame.draw.circle(DISPLAYSURF, YELLOW, B, 0, 0)\n",
    "pygame.draw.circle(DISPLAYSURF, YELLOW, C, 0, 0)\n",
    "pygame.draw.circle(DISPLAYSURF, YELLOW, D, 0, 0)\n",
    "pygame.draw.circle(DISPLAYSURF, YELLOW, St, 0, 0)\n",
    "prev=random.randint(1, 4)\n",
    "\n",
    "while True:\n",
    "    l=[1, 2, 3, 4]\n",
    "    l.remove(prev)\n",
    "    x=random.choice(l)\n",
    "    if x==1:\n",
    "        St=((St[0] + A[0])//2, (St[1] + A[1])//2)\n",
    "        prev=3\n",
    "    elif x==2:\n",
    "        St=((St[0] + B[0])//2, (St[1] + B[1])//2)\n",
    "        prev=4\n",
    "    elif x==3:\n",
    "        St=((St[0] + C[0])//2, (St[1] + C[1])//2)\n",
    "        prev=1\n",
    "    else:\n",
    "        St=((St[0] + D[0])//2, (St[1] + D[1])//2)\n",
    "        prev=2\n",
    "    pygame.draw.circle(DISPLAYSURF, YELLOW, St, 0, 0)\n",
    "\n",
    "    for event in pygame.event.get():\n",
    "        if event.type==QUIT:\n",
    "            pygame.image.save(DISPLAYSURF, \"square3.png\")\n",
    "            pygame.quit()\n",
    "            sys.exit()\n",
    "    \n",
    "    pygame.display.update()"
   ]
  },
  {
   "cell_type": "markdown",
   "metadata": {},
   "source": [
    "## Hexagon Structures"
   ]
  },
  {
   "cell_type": "code",
   "execution_count": 2,
   "metadata": {},
   "outputs": [
    {
     "ename": "SystemExit",
     "evalue": "",
     "output_type": "error",
     "traceback": [
      "An exception has occurred, use %tb to see the full traceback.\n",
      "\u001b[1;31mSystemExit\u001b[0m\n"
     ]
    },
    {
     "name": "stderr",
     "output_type": "stream",
     "text": [
      "F:\\Anaconda3\\lib\\site-packages\\IPython\\core\\interactiveshell.py:2971: UserWarning: To exit: use 'exit', 'quit', or Ctrl-D.\n",
      "  warn(\"To exit: use 'exit', 'quit', or Ctrl-D.\", stacklevel=1)\n"
     ]
    }
   ],
   "source": [
    "A=(250, 140)\n",
    "B=(100, 400)\n",
    "C=(250, 660)\n",
    "D=(550, 660)\n",
    "E=(700, 400)\n",
    "F=(550, 140)\n",
    "St=(1, 1)\n",
    "\n",
    "YELLOW=(255, 255, 0)\n",
    "\n",
    "pygame.draw.circle(DISPLAYSURF, YELLOW, A, 0, 0)\n",
    "pygame.draw.circle(DISPLAYSURF, YELLOW, B, 0, 0)\n",
    "pygame.draw.circle(DISPLAYSURF, YELLOW, C, 0, 0)\n",
    "pygame.draw.circle(DISPLAYSURF, YELLOW, D, 0, 0)\n",
    "pygame.draw.circle(DISPLAYSURF, YELLOW, E, 0, 0)\n",
    "pygame.draw.circle(DISPLAYSURF, YELLOW, F, 0, 0)\n",
    "pygame.draw.circle(DISPLAYSURF, YELLOW, St, 0, 0)\n",
    "#run the loop\n",
    "while True:\n",
    "    x=random.randint(1, 6)\n",
    "    if x==1: St=((St[0] + A[0])//3, (St[1] + A[1])//3)\n",
    "    elif x==2: St=((St[0] + B[0])//3, (St[1] + B[1])//3)\n",
    "    elif x==3: St=((St[0] + C[0])//3, (St[1] + C[1])//3)\n",
    "    elif x==4: St=((St[0] + D[0])//3, (St[1] + D[1])//3)\n",
    "    elif x==5: St=((St[0] + E[0])//3, (St[1] + E[1])//3)\n",
    "    else: St=((St[0] + F[0])//3, (St[1] + F[1])//3)\n",
    "    pygame.draw.circle(DISPLAYSURF, YELLOW, St, 0, 0)\n",
    "\n",
    "    for event in pygame.event.get():\n",
    "        if event.type==QUIT:\n",
    "            pygame.image.save(DISPLAYSURF, \"hex.png\")\n",
    "            pygame.quit()\n",
    "            sys.exit()\n",
    "\n",
    "    pygame.display.update()"
   ]
  },
  {
   "cell_type": "markdown",
   "metadata": {},
   "source": [
    "## Barnsley's Fern"
   ]
  },
  {
   "cell_type": "markdown",
   "metadata": {},
   "source": [
    "#### Type $\\textit{Black Spleenwort}$"
   ]
  },
  {
   "cell_type": "code",
   "execution_count": null,
   "metadata": {},
   "outputs": [],
   "source": [
    "# GREEN=(0, 255, 0)\n",
    "\n",
    "X=[0.0]\n",
    "Y=[0.0]\n",
    "i=0\n",
    "\n",
    "while True:\n",
    "    r=random.random() \n",
    "    if r<=0.02:\n",
    "        X+=[0.0, ]\n",
    "        Y+=[0.16*Y[i], ]\n",
    "    elif r<=0.86:\n",
    "        X+=[0.85*X[i] + 0.04*Y[i], ]\n",
    "        Y+=[-0.024*X[i] + 0.85*Y[i] + 1.6, ]\n",
    "    elif r<=0.93:\n",
    "        X+=[0.20*X[i] - 0.26*Y[i], ]\n",
    "        Y+=[0.23*X[i] + 0.22*Y[i] + 1.6, ]\n",
    "    else:\n",
    "        X+=[-0.15*X[i] + 0.28*Y[i], ]\n",
    "        Y+=[0.26*X[i] + 0.24*Y[i] + 0.44, ]\n",
    "\n",
    "    pygame.draw.circle(DISPLAYSURF, GREEN, \n",
    "(int(X[i]*90 + 300), 600 - int(Y[i]*50)), 0, 0) \n",
    "    i+=1\n",
    "    \n",
    "    for event in pygame.event.get():\n",
    "        if event.type==QUIT:\n",
    "            pygame.image.save(DISPLAYSURF, \"BarnsleyFern.png\")\n",
    "            pygame.quit()\n",
    "            sys.exit()\n",
    "\n",
    "    pygame.display.update()"
   ]
  },
  {
   "cell_type": "markdown",
   "metadata": {},
   "source": [
    "#### Type $\\textit{Thelypteridaceae}$"
   ]
  },
  {
   "cell_type": "code",
   "execution_count": 4,
   "metadata": {},
   "outputs": [
    {
     "ename": "SystemExit",
     "evalue": "",
     "output_type": "error",
     "traceback": [
      "An exception has occurred, use %tb to see the full traceback.\n",
      "\u001b[1;31mSystemExit\u001b[0m\n"
     ]
    },
    {
     "name": "stderr",
     "output_type": "stream",
     "text": [
      "F:\\Anaconda3\\lib\\site-packages\\IPython\\core\\interactiveshell.py:2971: UserWarning: To exit: use 'exit', 'quit', or Ctrl-D.\n",
      "  warn(\"To exit: use 'exit', 'quit', or Ctrl-D.\", stacklevel=1)\n"
     ]
    }
   ],
   "source": [
    "# GREEN=(0, 255, 0)\n",
    "\n",
    "X=[0.0]\n",
    "Y=[0.0]\n",
    "i=0\n",
    "\n",
    "while True:\n",
    "    r=random.random() \n",
    "    if r<=0.02:\n",
    "        X+=[0.0, ]\n",
    "        Y+=[0.25*Y[i] - 0.4, ]\n",
    "    elif r>0.02 and r<=0.86:\n",
    "        X+=[0.95*X[i] + 0.005*Y[i] - 0.002, ]\n",
    "        Y+=[-0.005*X[i] + 0.93*Y[i] + 0.5, ]\n",
    "    elif r>0.86 and r<=0.93:\n",
    "        X+=[0.035*X[i] - 0.2*Y[i] - 0.09, ]\n",
    "        Y+=[0.16*X[i] + 0.04*Y[i] + 0.02, ]\n",
    "    else:\n",
    "        X+=[-0.04*X[i] + 0.2*Y[i] + 0.083, ]\n",
    "        Y+=[0.16*X[i] + 0.04*Y[i] + 0.12, ]\n",
    "    \n",
    "    pygame.draw.circle(DISPLAYSURF, GREEN, (int(X[i]*90 + 300),\n",
    "600 - int(Y[i]*80)), 0, 0)\n",
    "    i+=1\n",
    "    \n",
    "    for event in pygame.event.get():\n",
    "        if event.type==QUIT:\n",
    "            pygame.image.save(DISPLAYSURF, \"BarnsleyFern2.png\")\n",
    "            pygame.quit()\n",
    "            sys.exit()\n",
    "\n",
    "    pygame.display.update()"
   ]
  },
  {
   "cell_type": "markdown",
   "metadata": {},
   "source": [
    "#### Type $\\textit{Leptosporangiate}$"
   ]
  },
  {
   "cell_type": "code",
   "execution_count": 6,
   "metadata": {},
   "outputs": [
    {
     "ename": "SystemExit",
     "evalue": "",
     "output_type": "error",
     "traceback": [
      "An exception has occurred, use %tb to see the full traceback.\n",
      "\u001b[1;31mSystemExit\u001b[0m\n"
     ]
    },
    {
     "name": "stderr",
     "output_type": "stream",
     "text": [
      "F:\\Anaconda3\\lib\\site-packages\\IPython\\core\\interactiveshell.py:2971: UserWarning: To exit: use 'exit', 'quit', or Ctrl-D.\n",
      "  warn(\"To exit: use 'exit', 'quit', or Ctrl-D.\", stacklevel=1)\n"
     ]
    }
   ],
   "source": [
    "# GREEN=(0, 255, 0)\n",
    "\n",
    "X=[0.0]\n",
    "Y=[0.0]\n",
    "i=0\n",
    "\n",
    "while True:\n",
    "    r=random.random() \n",
    "    if r<=0.02:\n",
    "        X+=[0.0, ]\n",
    "        Y+=[0.25*Y[i] - 0.14, ]\n",
    "    elif r>0.02 and r<=0.86:\n",
    "        X+=[0.85*X[i] + 0.02*Y[i], ]\n",
    "        Y+=[-0.02*X[i] + 0.83*Y[i] + 1.0, ]\n",
    "    elif r>0.86 and r<=0.93:\n",
    "        X+=[0.09*X[i] - 0.28*Y[i], ]\n",
    "        Y+=[0.3*X[i] + 0.11*Y[i] + 0.6, ]\n",
    "    else:\n",
    "        X+=[-0.09*X[i] + 0.28*Y[i], ]\n",
    "        Y+=[0.3*X[i] + 0.09*Y[i] + 0.7, ]\n",
    "    \n",
    "    pygame.draw.circle(DISPLAYSURF, GREEN, (int(X[i]*90 + 300),\n",
    "600 - int(Y[i]*80)), 0, 0)\n",
    "    i+=1\n",
    "    \n",
    "    for event in pygame.event.get():\n",
    "        if event.type==QUIT:\n",
    "            pygame.image.save(DISPLAYSURF, \"BarnsleyFern3.png\")\n",
    "            pygame.quit()\n",
    "            sys.exit()\n",
    "\n",
    "    pygame.display.update()"
   ]
  },
  {
   "cell_type": "code",
   "execution_count": null,
   "metadata": {},
   "outputs": [],
   "source": []
  }
 ],
 "metadata": {
  "kernelspec": {
   "display_name": "Python 3",
   "language": "python",
   "name": "python3"
  },
  "language_info": {
   "codemirror_mode": {
    "name": "ipython",
    "version": 3
   },
   "file_extension": ".py",
   "mimetype": "text/x-python",
   "name": "python",
   "nbconvert_exporter": "python",
   "pygments_lexer": "ipython3",
   "version": "3.6.5"
  }
 },
 "nbformat": 4,
 "nbformat_minor": 2
}
